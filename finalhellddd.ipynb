{
 "cells": [
  {
   "cell_type": "code",
   "execution_count": 1,
   "id": "c079b53f-ddb5-41c3-8f98-df51fa13e469",
   "metadata": {},
   "outputs": [],
   "source": [
    "import nltk\n",
    "import numpy as np\n",
    "import os\n",
    "import gensim"
   ]
  },
  {
   "cell_type": "code",
   "execution_count": 2,
   "id": "93be04d0-a475-4bad-b5ca-6b6d906c3ac3",
   "metadata": {},
   "outputs": [],
   "source": [
    "file_path=os.path.join(\"opinions.csv\")\n",
    "with open(\"opinions.csv\", \"r\", encoding=\"utf-8\") as file:\n",
    "    case=file.read()"
   ]
  },
  {
   "cell_type": "code",
   "execution_count": 3,
   "id": "fda403b4-1f3a-44ea-8ea6-630acdf8e547",
   "metadata": {},
   "outputs": [
    {
     "name": "stdout",
     "output_type": "stream",
     "text": [
      "[\"it'll\", \"they're\", 'between', 'himself', 'same', \"we'll\", 'only', 'further', 'such', 'his', 'isn', \"i've\", 'ain', \"he's\", \"mightn't\", \"he'll\", 'once', 'below', 'll', 'again', 'has', 'more', 'on', 'hers', 'herself', 'yours', 'which', \"it's\", 'own', 'what', 'her', 'your', \"aren't\", 'out', 'during', 'why', 'were', 'don', 'doesn', 'for', 'there', \"won't\", 'm', \"don't\", 'nor', 'each', 'are', 're', \"should've\", \"weren't\", \"mustn't\", 'd', 'over', 'because', 'o', \"she'll\", 'having', 'my', 'y', 'me', 'who', 'didn', 'into', 'he', 'of', 'at', \"they'll\", \"it'd\", 'very', 'too', \"we'd\", 'we', 'not', 'just', 'wouldn', 'from', \"shan't\", 'then', 'no', 'so', 'ma', \"needn't\", \"doesn't\", 'be', 'aren', 'down', \"you'd\", \"i'm\", 'any', \"didn't\", 'up', 'to', 'it', \"isn't\", 'this', 'being', \"hasn't\", 'other', 'now', 'these', 'ours', \"hadn't\", \"haven't\", \"they've\", \"wasn't\", 'until', 'myself', 'by', 'you', 'about', 'than', 'wasn', 'am', \"they'd\", 'do', 'but', 'itself', 'the', 'theirs', \"you've\", \"couldn't\", 'have', 'against', \"we're\", 'if', 'when', 'couldn', 'here', 'shouldn', 'with', 'mightn', 'our', 'how', 'off', 'does', \"she'd\", 'hadn', 'is', 'shan', 'will', 'or', 'yourself', 'both', 'most', 'themselves', \"that'll\", 'needn', 'through', 'its', 'a', 'their', 'some', 'weren', 'in', 'had', 'while', 'mustn', \"i'd\", 'hasn', 'haven', 'ourselves', 'them', 've', \"we've\", \"shouldn't\", 'those', 'should', 'above', 'all', 'can', \"i'll\", 'i', \"wouldn't\", 'before', 'after', 'where', \"you'll\", \"he'd\", 'been', 'him', 'doing', 'under', 'yourselves', 'an', 'as', 'she', 'that', 'won', 'and', 'they', \"you're\", 'did', \"she's\", 't', 'was', 's', 'few', 'whom']\n"
     ]
    }
   ],
   "source": [
    "from nltk.corpus import stopwords\n",
    "stop_words=set(stopwords.words(\"english\"))\n",
    "stop_words_list=list(stop_words)\n",
    "print(stop_words_list)"
   ]
  },
  {
   "cell_type": "code",
   "execution_count": 4,
   "id": "4881b38f-c596-46e3-96e7-0eaa7dc2a670",
   "metadata": {},
   "outputs": [
    {
     "data": {
      "text/plain": [
       "'author_name,category,per_curiam,case_name,date_filed,federal_cite_one,absolute_url,cluster,year_filed,scdb_id,scdb_decision_direction,scdb_votes_majority,scdb_votes_minority,text\\nJustice Roberts,majority,False,McCutcheon v. Federal Election Comm\\'n,2014-04-02,,https://www.courtlistener.com/opinion/2659301/mccutcheon-v-federal-election-commn/,https://www.courtlistener.com/api/rest/v3/clusters/2659301/,2014,2013-033,1.0,5.0,4.0,\"There is no right more basic in our democracy than the\\nright to participate in electing our political leaders. Citi-\\nzens can exercise that right in a variety of ways: They can\\nrun for office themselves, vote, urge others to vote for a\\nparticular candidate, volunteer to work on a campaign,\\nand contribute to a candidate’s campaign. This case is\\nabout the last of those options.\\n   The right to participate in democracy through political\\ncontributions is protected by the First Amendment, but\\nthat right is not absolute. Our cases have held that Con-\\ngress may regulate '"
      ]
     },
     "execution_count": 4,
     "metadata": {},
     "output_type": "execute_result"
    }
   ],
   "source": [
    "#bir bölümü\n",
    "case[:1000]"
   ]
  },
  {
   "cell_type": "code",
   "execution_count": 5,
   "id": "dc2f0c5f-492b-45c0-9fa7-837e59772e3b",
   "metadata": {},
   "outputs": [],
   "source": [
    "#lemmatize ve stemmer\n",
    "from nltk.tokenize import word_tokenize, sent_tokenize \n",
    "from nltk.corpus import stopwords \n",
    "from nltk.stem import WordNetLemmatizer\n",
    "from nltk.stem import PorterStemmer \n",
    "lemmatizer=WordNetLemmatizer()\n",
    "stemmer=PorterStemmer()\n",
    "import csv\n",
    "import pandas as pd\n",
    "from sklearn.feature_extraction.text import TfidfVectorizer"
   ]
  },
  {
   "cell_type": "code",
   "execution_count": 6,
   "id": "2c28c3dc-09eb-4d07-9897-bf3eea822392",
   "metadata": {},
   "outputs": [],
   "source": [
    "sentences=sent_tokenize(case)"
   ]
  },
  {
   "cell_type": "code",
   "execution_count": 7,
   "id": "e4d17a86-5c66-40c1-881f-d7345fc0cb26",
   "metadata": {},
   "outputs": [],
   "source": [
    "def preprocess_sentence(sentence):\n",
    "    tokens=word_tokenize(sentence)\n",
    "    filtered_tokens=[token.lower() for token in tokens if token.isalpha() and token.lower not in stop_words]\n",
    "\n",
    "    lemmatized_tokens=[lemmatizer.lemmatize(token) for token in filtered_tokens]\n",
    "    stemmed_tokens=[stemmer.stem(token) for token in filtered_tokens]\n",
    "    return lemmatized_tokens, stemmed_tokens"
   ]
  },
  {
   "cell_type": "code",
   "execution_count": 8,
   "id": "517c4700-61f7-4b1d-9bd8-b094e5f368ae",
   "metadata": {},
   "outputs": [],
   "source": [
    "#her cünleyi tokenleştir ve lemmatize et ve stemmle\n",
    "tokenized_corpus_lemmatized=[]\n",
    "tokenized_corpus_stemmed=[]"
   ]
  },
  {
   "cell_type": "code",
   "execution_count": 9,
   "id": "e518f1b3-6467-401b-b34b-9e2895b54cae",
   "metadata": {},
   "outputs": [],
   "source": [
    "for sentence in sentences:\n",
    "    lemmatized_tokens, stemmed_tokens=preprocess_sentence(sentence)\n",
    "    tokenized_corpus_lemmatized.append(lemmatized_tokens)\n",
    "    tokenized_corpus_stemmed.append(stemmed_tokens)"
   ]
  },
  {
   "cell_type": "code",
   "execution_count": 10,
   "id": "a1f93bfe-6256-4b3f-8391-9aeb40184af2",
   "metadata": {},
   "outputs": [],
   "source": [
    "with open(\"lemmatized_sente.csv\", mode=\"w\", newline=\"\", encoding=\"utf-8\") as file:\n",
    "    writer=csv.writer(file)\n",
    "    #her cümleyi ayrı satır olarak yaz\n",
    "    for tokens in tokenized_corpus_lemmatized:\n",
    "        writer.writerow([' '.join(tokens)])"
   ]
  },
  {
   "cell_type": "code",
   "execution_count": 11,
   "id": "f8b6e360-48e0-4311-a667-2e44223fc5f3",
   "metadata": {},
   "outputs": [],
   "source": [
    "with open(\"stemmed_sente.csv\", mode=\"w\", newline=\"\", encoding=\"utf-8\") as file:\n",
    "    writer=csv.writer(file)\n",
    "    #her cümleyi ayrı satır olarak yaz\n",
    "    for tokens in tokenized_corpus_stemmed:\n",
    "        writer.writerow([' '.join(tokens)])        "
   ]
  },
  {
   "cell_type": "code",
   "execution_count": 12,
   "id": "b490ee11-44d9-427e-8b5b-ae228f1dd808",
   "metadata": {
    "scrolled": true
   },
   "outputs": [
    {
     "name": "stdout",
     "output_type": "stream",
     "text": [
      "Cümle 1 - Base: author_name,category,per_curiam,case_name,date_filed,federal_cite_one,absolute_url,cluster,year_filed,scdb_id,scdb_decision_direction,scdb_votes_majority,scdb_votes_minority,text\n",
      "Justice Roberts,majority,False,McCutcheon v. Federal Election Comm'n,2014-04-02,,https://www.courtlistener.com/opinion/2659301/mccutcheon-v-federal-election-commn/,https://www.courtlistener.com/api/rest/v3/clusters/2659301/,2014,2013-033,1.0,5.0,4.0,\"There is no right more basic in our democracy than the\n",
      "right to participate in electing our political leaders.\n",
      "Cümle 1 - Lemmatized: ['category', 'cluster', 'text', 'justice', 'robert', 'majority', 'false', 'mccutcheon', 'federal', 'election', 'http', 'there', 'is', 'no', 'right', 'more', 'basic', 'in', 'our', 'democracy', 'than', 'the', 'right', 'to', 'participate', 'in', 'electing', 'our', 'political', 'leader']\n",
      "Cümle 1 - Stemmed: ['categori', 'cluster', 'text', 'justic', 'robert', 'major', 'fals', 'mccutcheon', 'feder', 'elect', 'http', 'there', 'is', 'no', 'right', 'more', 'basic', 'in', 'our', 'democraci', 'than', 'the', 'right', 'to', 'particip', 'in', 'elect', 'our', 'polit', 'leader']\n",
      "\n",
      "\n",
      "Cümle 2 - Base: Citi-\n",
      "zens can exercise that right in a variety of ways: They can\n",
      "run for office themselves, vote, urge others to vote for a\n",
      "particular candidate, volunteer to work on a campaign,\n",
      "and contribute to a candidate’s campaign.\n",
      "Cümle 2 - Lemmatized: ['zen', 'can', 'exercise', 'that', 'right', 'in', 'a', 'variety', 'of', 'way', 'they', 'can', 'run', 'for', 'office', 'themselves', 'vote', 'urge', 'others', 'to', 'vote', 'for', 'a', 'particular', 'candidate', 'volunteer', 'to', 'work', 'on', 'a', 'campaign', 'and', 'contribute', 'to', 'a', 'candidate', 's', 'campaign']\n",
      "Cümle 2 - Stemmed: ['zen', 'can', 'exercis', 'that', 'right', 'in', 'a', 'varieti', 'of', 'way', 'they', 'can', 'run', 'for', 'offic', 'themselv', 'vote', 'urg', 'other', 'to', 'vote', 'for', 'a', 'particular', 'candid', 'volunt', 'to', 'work', 'on', 'a', 'campaign', 'and', 'contribut', 'to', 'a', 'candid', 's', 'campaign']\n",
      "\n",
      "\n",
      "Cümle 3 - Base: This case is\n",
      "about the last of those options.\n",
      "Cümle 3 - Lemmatized: ['this', 'case', 'is', 'about', 'the', 'last', 'of', 'those', 'option']\n",
      "Cümle 3 - Stemmed: ['thi', 'case', 'is', 'about', 'the', 'last', 'of', 'those', 'option']\n",
      "\n",
      "\n",
      "Cümle 4 - Base: The right to participate in democracy through political\n",
      "contributions is protected by the First Amendment, but\n",
      "that right is not absolute.\n",
      "Cümle 4 - Lemmatized: ['the', 'right', 'to', 'participate', 'in', 'democracy', 'through', 'political', 'contribution', 'is', 'protected', 'by', 'the', 'first', 'amendment', 'but', 'that', 'right', 'is', 'not', 'absolute']\n",
      "Cümle 4 - Stemmed: ['the', 'right', 'to', 'particip', 'in', 'democraci', 'through', 'polit', 'contribut', 'is', 'protect', 'by', 'the', 'first', 'amend', 'but', 'that', 'right', 'is', 'not', 'absolut']\n",
      "\n",
      "\n",
      "Cümle 5 - Base: Our cases have held that Con-\n",
      "gress may regulate campaign contributions to protect\n",
      "against corruption or the appearance of corruption.\n",
      "Cümle 5 - Lemmatized: ['our', 'case', 'have', 'held', 'that', 'gress', 'may', 'regulate', 'campaign', 'contribution', 'to', 'protect', 'against', 'corruption', 'or', 'the', 'appearance', 'of', 'corruption']\n",
      "Cümle 5 - Stemmed: ['our', 'case', 'have', 'held', 'that', 'gress', 'may', 'regul', 'campaign', 'contribut', 'to', 'protect', 'against', 'corrupt', 'or', 'the', 'appear', 'of', 'corrupt']\n",
      "\n",
      "\n"
     ]
    }
   ],
   "source": [
    "#ik 5 yazdıralım\n",
    "for i in range(5):\n",
    "    print(f\"Cümle {i+1} - Base: {sentences[i]}\")\n",
    "    print(f\"Cümle {i+1} - Lemmatized: {tokenized_corpus_lemmatized[i]}\")\n",
    "    print(f\"Cümle {i+1} - Stemmed: {tokenized_corpus_stemmed[i]}\")\n",
    "    print(\"\\n\")\n",
    "    "
   ]
  },
  {
   "cell_type": "code",
   "execution_count": 13,
   "id": "bb9c4843-66f0-4749-93d1-094922af4e9d",
   "metadata": {},
   "outputs": [],
   "source": [
    "from sklearn.feature_extraction.text import TfidfVectorizer\n",
    "file_path=os.path.join(\"stemmed_sente.csv\")\n",
    "with open(\"stemmed_sente.csv\", \"r\", encoding=\"utf-8\") as file:\n",
    "    stemmed_texts=file.read()\n",
    "stemme_texts=[' '.join(tokens) for tokens in tokenized_corpus_stemmed]\n",
    "vectorizer=TfidfVectorizer()\n",
    "tfidf_matrix=vectorizer.fit_transform(stemme_texts[:1000])\n",
    "features_names=vectorizer.get_feature_names_out()\n",
    "tfidf_df=pd.DataFrame(tfidf_matrix.toarray(),columns=features_names)\n",
    "with open(\"stemmee_idfff.csv\", mode=\"w\", newline=\"\", encoding=\"utf-8\") as file:\n",
    "    writer=csv.writer(file)\n",
    "    #her cümleyi ayrı satır olarak yaz\n",
    "    for tokens in tokenized_corpus_stemmed:\n",
    "        writer.writerow([' '.join(tokens)])        "
   ]
  },
  {
   "cell_type": "code",
   "execution_count": 14,
   "id": "1faa19e1-8849-4a5a-8c54-77e002b34030",
   "metadata": {},
   "outputs": [
    {
     "name": "stdout",
     "output_type": "stream",
     "text": [
      "   abid  abil  abl     about  abov  abridg  absenc  absent   absolut  abus  \\\n",
      "0   0.0   0.0  0.0  0.000000   0.0     0.0     0.0     0.0  0.000000   0.0   \n",
      "1   0.0   0.0  0.0  0.000000   0.0     0.0     0.0     0.0  0.000000   0.0   \n",
      "2   0.0   0.0  0.0  0.392252   0.0     0.0     0.0     0.0  0.000000   0.0   \n",
      "3   0.0   0.0  0.0  0.000000   0.0     0.0     0.0     0.0  0.331957   0.0   \n",
      "4   0.0   0.0  0.0  0.000000   0.0     0.0     0.0     0.0  0.000000   0.0   \n",
      "\n",
      "   ...  wrote  wyden  wyo   ye  year  yet  yield  yond  york       zen  \n",
      "0  ...    0.0    0.0  0.0  0.0   0.0  0.0    0.0   0.0   0.0  0.000000  \n",
      "1  ...    0.0    0.0  0.0  0.0   0.0  0.0    0.0   0.0   0.0  0.222065  \n",
      "2  ...    0.0    0.0  0.0  0.0   0.0  0.0    0.0   0.0   0.0  0.000000  \n",
      "3  ...    0.0    0.0  0.0  0.0   0.0  0.0    0.0   0.0   0.0  0.000000  \n",
      "4  ...    0.0    0.0  0.0  0.0   0.0  0.0    0.0   0.0   0.0  0.000000  \n",
      "\n",
      "[5 rows x 1928 columns]\n"
     ]
    }
   ],
   "source": [
    "print(tfidf_df.head())"
   ]
  },
  {
   "cell_type": "code",
   "execution_count": 69,
   "id": "7b1be283-3146-4dde-8e7c-7c5cacd32345",
   "metadata": {},
   "outputs": [
    {
     "name": "stdout",
     "output_type": "stream",
     "text": [
      "5. cümlede en yüksek TF-IDF skorlarına sahip 5 kelime:\n",
      "valeo      0.555805\n",
      "curiam     0.539718\n",
      "per        0.471498\n",
      "buckley    0.305823\n",
      "see        0.289737\n",
      "Name: 5, dtype: float64\n"
     ]
    }
   ],
   "source": [
    "#ilk cümle için TF-IDF SKORLARINI AL\n",
    "first_sentence_vector=tfidf_df.iloc[5]\n",
    "#Skorlara göre sırala\n",
    "top_5_words=first_sentence_vector.sort_values(ascending=False).head(5)\n",
    "#sonuç yazdır\n",
    "print(\"5. cümlede en yüksek TF-IDF skorlarına sahip 5 kelime:\")\n",
    "print(top_5_words)"
   ]
  },
  {
   "cell_type": "code",
   "execution_count": 16,
   "id": "559b6cf5-a7c3-4231-9089-4b0e11dc2c0c",
   "metadata": {},
   "outputs": [],
   "source": [
    "lemmatized_texts=[' '.join(tokens) for tokens in tokenized_corpus_lemmatized]\n",
    "vectorizer=TfidfVectorizer()\n",
    "tfidf_matrix=vectorizer.fit_transform(lemmatized_texts[:1000])\n",
    "features_names=vectorizer.get_feature_names_out()\n",
    "tfidf_df=pd.DataFrame(tfidf_matrix.toarray(),columns=features_names)\n",
    "with open(\"lemmaaa_idfff.csv\", mode=\"w\", newline=\"\", encoding=\"utf-8\") as file:\n",
    "    writer=csv.writer(file)\n",
    "    #her cümleyi ayrı satır olarak yaz\n",
    "    for tokens in tokenized_corpus_lemmatized:\n",
    "        writer.writerow([' '.join(tokens)])        "
   ]
  },
  {
   "cell_type": "code",
   "execution_count": 17,
   "id": "00198302-67d7-4171-910c-5c3458907d29",
   "metadata": {},
   "outputs": [
    {
     "name": "stdout",
     "output_type": "stream",
     "text": [
      "   abide  ability  able     about  above  abridg  abridgement  abridgment  \\\n",
      "0    0.0      0.0   0.0  0.000000    0.0     0.0          0.0         0.0   \n",
      "1    0.0      0.0   0.0  0.000000    0.0     0.0          0.0         0.0   \n",
      "2    0.0      0.0   0.0  0.392252    0.0     0.0          0.0         0.0   \n",
      "3    0.0      0.0   0.0  0.000000    0.0     0.0          0.0         0.0   \n",
      "4    0.0      0.0   0.0  0.000000    0.0     0.0          0.0         0.0   \n",
      "\n",
      "   absence  absent  ...  wrote  wyden  wyo  year  yes  yet  yield  yond  york  \\\n",
      "0      0.0     0.0  ...    0.0    0.0  0.0   0.0  0.0  0.0    0.0   0.0   0.0   \n",
      "1      0.0     0.0  ...    0.0    0.0  0.0   0.0  0.0  0.0    0.0   0.0   0.0   \n",
      "2      0.0     0.0  ...    0.0    0.0  0.0   0.0  0.0  0.0    0.0   0.0   0.0   \n",
      "3      0.0     0.0  ...    0.0    0.0  0.0   0.0  0.0  0.0    0.0   0.0   0.0   \n",
      "4      0.0     0.0  ...    0.0    0.0  0.0   0.0  0.0  0.0    0.0   0.0   0.0   \n",
      "\n",
      "        zen  \n",
      "0  0.000000  \n",
      "1  0.215289  \n",
      "2  0.000000  \n",
      "3  0.000000  \n",
      "4  0.000000  \n",
      "\n",
      "[5 rows x 2440 columns]\n"
     ]
    }
   ],
   "source": [
    "print(tfidf_df.head())"
   ]
  },
  {
   "cell_type": "code",
   "execution_count": 18,
   "id": "9a62935a-cddc-4166-9a4f-a9cfe1351af9",
   "metadata": {},
   "outputs": [],
   "source": [
    "import gensim\n",
    "from gensim.models import Word2Vec\n",
    "parameters=[\n",
    "    {'model_type':'cbow','window':2,'vector_size':100},\n",
    "    {'model_type':'skipgram','window':2,'vector_size':100},\n",
    "    {'model_type':'cbow','window':4,'vector_size':100},\n",
    "    {'model_type':'skipgram','window':4,'vector_size':100},\n",
    "    {'model_type':'cbow','window':2,'vector_size':300},\n",
    "    {'model_type':'skipgram','window':2,'vector_size':300},\n",
    "    {'model_type':'cbow','window':4,'vector_size':300},\n",
    "    {'model_type':'skipgram','window':4,'vector_size':300}]"
   ]
  },
  {
   "cell_type": "code",
   "execution_count": 19,
   "id": "fc495df7-33e6-4c8c-a6ae-176d0b957694",
   "metadata": {},
   "outputs": [
    {
     "name": "stdout",
     "output_type": "stream",
     "text": [
      "lemmatized_model_cbow_window2_dim100model saved\n",
      "lemmatized_model_skipgram_window2_dim100model saved\n",
      "lemmatized_model_cbow_window4_dim100model saved\n",
      "lemmatized_model_skipgram_window4_dim100model saved\n",
      "lemmatized_model_cbow_window2_dim300model saved\n",
      "lemmatized_model_skipgram_window2_dim300model saved\n",
      "lemmatized_model_cbow_window4_dim300model saved\n",
      "lemmatized_model_skipgram_window4_dim300model saved\n",
      "stemmed_model_cbow_window2_dim100model saved\n",
      "stemmed_model_skipgram_window2_dim100model saved\n",
      "stemmed_model_cbow_window4_dim100model saved\n",
      "stemmed_model_skipgram_window4_dim100model saved\n",
      "stemmed_model_cbow_window2_dim300model saved\n",
      "stemmed_model_skipgram_window2_dim300model saved\n",
      "stemmed_model_cbow_window4_dim300model saved\n",
      "stemmed_model_skipgram_window4_dim300model saved\n"
     ]
    }
   ],
   "source": [
    "def train_and_save_model(corpus, params, model_name):\n",
    "    model=Word2Vec(corpus, vector_size=params['vector_size'], window=params['window'], min_count=1,sg=1 if params['model_type']=='skipgram' else 0)\n",
    "    model.save(f\"{model_name}_{params['model_type']}_window{params['window']}_dim{params['vector_size']}model\")\n",
    "    print(f\"{model_name}_{params['model_type']}_window{params['window']}_dim{params['vector_size']}model saved\")\n",
    "#lemma corpus modelleri eğitme ve kaydetme\n",
    "for param in parameters:\n",
    "    train_and_save_model(tokenized_corpus_lemmatized, param, \"lemmatized_model\")\n",
    "#stemma corpus modelleri eğitme ve kaydetme\n",
    "for param in parameters:\n",
    "    train_and_save_model(tokenized_corpus_stemmed, param,\"stemmed_model\")"
   ]
  },
  {
   "cell_type": "code",
   "execution_count": 1,
   "id": "91ccacb8-8526-4e12-a375-fe7420b8f888",
   "metadata": {},
   "outputs": [],
   "source": [
    "from gensim.models import Word2Vec\n",
    "#Model dosyalarını yüklemek\n",
    "model_1=Word2Vec.load(\"lemmatized_model_cbow_window2_dim100model\")\n",
    "model_2=Word2Vec.load(\"lemmatized_model_skipgram_window2_dim100model\")\n",
    "model_3=Word2Vec.load(\"lemmatized_model_cbow_window4_dim100model\")\n",
    "model_4=Word2Vec.load(\"lemmatized_model_skipgram_window4_dim100model\")\n",
    "model_5=Word2Vec.load(\"lemmatized_model_cbow_window2_dim300model\")\n",
    "model_6=Word2Vec.load(\"lemmatized_model_skipgram_window2_dim300model\")\n",
    "model_7=Word2Vec.load(\"lemmatized_model_cbow_window4_dim300model\")\n",
    "model_8=Word2Vec.load(\"lemmatized_model_skipgram_window4_dim300model\")\n",
    "def print_similar_words(model, model_name):\n",
    "    similarity=model.wv.most_similar('held', topn=5)\n",
    "    print(f\"\\n{model_name} Modeli - 'held' ile benzer 5:\")\n",
    "    for word, score in similarity:\n",
    "        print(f\"Kelime: {word}, Benzerlik Skoru:{score}\") "
   ]
  },
  {
   "cell_type": "code",
   "execution_count": 2,
   "id": "2da22479-c70e-4e6c-baee-85f7a6fb45d2",
   "metadata": {},
   "outputs": [
    {
     "name": "stdout",
     "output_type": "stream",
     "text": [
      "\n",
      "lemmatized_model_cbow_window2_dim100model Modeli - 'held' ile benzer 5:\n",
      "Kelime: ruled, Benzerlik Skoru:0.8438298106193542\n",
      "Kelime: declared, Benzerlik Skoru:0.7773985266685486\n",
      "Kelime: found, Benzerlik Skoru:0.7708753347396851\n",
      "Kelime: concluded, Benzerlik Skoru:0.7655172348022461\n",
      "Kelime: recognized, Benzerlik Skoru:0.7619380354881287\n",
      "\n",
      "lemmatized_model_skipgram_window2_dim100model Modeli - 'held' ile benzer 5:\n",
      "Kelime: ruled, Benzerlik Skoru:0.8039774894714355\n",
      "Kelime: declared, Benzerlik Skoru:0.7526212334632874\n",
      "Kelime: recognized, Benzerlik Skoru:0.7377374172210693\n",
      "Kelime: concluded, Benzerlik Skoru:0.7351927757263184\n",
      "Kelime: found, Benzerlik Skoru:0.7254128456115723\n",
      "\n",
      "lemmatized_model_cbow_window4_dim100model Modeli - 'held' ile benzer 5:\n",
      "Kelime: ruled, Benzerlik Skoru:0.8301092386245728\n",
      "Kelime: concluded, Benzerlik Skoru:0.7695763111114502\n",
      "Kelime: found, Benzerlik Skoru:0.7534252405166626\n",
      "Kelime: declared, Benzerlik Skoru:0.7514035701751709\n",
      "Kelime: observed, Benzerlik Skoru:0.7374347448348999\n",
      "\n",
      "lemmatized_model_skipgram_window4_dim100model Modeli - 'held' ile benzer 5:\n",
      "Kelime: ruled, Benzerlik Skoru:0.8051066994667053\n",
      "Kelime: declared, Benzerlik Skoru:0.7513866424560547\n",
      "Kelime: recognized, Benzerlik Skoru:0.7459872364997864\n",
      "Kelime: concluded, Benzerlik Skoru:0.7389272451400757\n",
      "Kelime: hold, Benzerlik Skoru:0.7261824011802673\n",
      "\n",
      "lemmatized_model_cbow_window2_dim300model Modeli - 'held' ile benzer 5:\n",
      "Kelime: ruled, Benzerlik Skoru:0.7379480004310608\n",
      "Kelime: concluded, Benzerlik Skoru:0.680277943611145\n",
      "Kelime: declared, Benzerlik Skoru:0.6687027812004089\n",
      "Kelime: found, Benzerlik Skoru:0.6563209295272827\n",
      "Kelime: recognized, Benzerlik Skoru:0.6515865921974182\n",
      "\n",
      "lemmatized_model_skipgram_window2_dim300model Modeli - 'held' ile benzer 5:\n",
      "Kelime: ruled, Benzerlik Skoru:0.6657034754753113\n",
      "Kelime: hold, Benzerlik Skoru:0.6287514567375183\n",
      "Kelime: concluded, Benzerlik Skoru:0.5721344351768494\n",
      "Kelime: holding, Benzerlik Skoru:0.5512410998344421\n",
      "Kelime: recognized, Benzerlik Skoru:0.5443773865699768\n",
      "\n",
      "lemmatized_model_cbow_window4_dim300model Modeli - 'held' ile benzer 5:\n",
      "Kelime: ruled, Benzerlik Skoru:0.7488711476325989\n",
      "Kelime: concluded, Benzerlik Skoru:0.6854326128959656\n",
      "Kelime: declared, Benzerlik Skoru:0.6478080153465271\n",
      "Kelime: hold, Benzerlik Skoru:0.6311739683151245\n",
      "Kelime: observed, Benzerlik Skoru:0.6310602426528931\n",
      "\n",
      "lemmatized_model_skipgram_window4_dim300model Modeli - 'held' ile benzer 5:\n",
      "Kelime: ruled, Benzerlik Skoru:0.6815834045410156\n",
      "Kelime: hold, Benzerlik Skoru:0.656408429145813\n",
      "Kelime: concluded, Benzerlik Skoru:0.6138679385185242\n",
      "Kelime: recognized, Benzerlik Skoru:0.5714818239212036\n",
      "Kelime: holding, Benzerlik Skoru:0.567010760307312\n"
     ]
    }
   ],
   "source": [
    "#8 model için yazır\n",
    "print_similar_words(model_1, \"lemmatized_model_cbow_window2_dim100model\")\n",
    "print_similar_words(model_2, \"lemmatized_model_skipgram_window2_dim100model\")\n",
    "print_similar_words(model_3, \"lemmatized_model_cbow_window4_dim100model\")\n",
    "print_similar_words(model_4, \"lemmatized_model_skipgram_window4_dim100model\")\n",
    "print_similar_words(model_5, \"lemmatized_model_cbow_window2_dim300model\")\n",
    "print_similar_words(model_6, \"lemmatized_model_skipgram_window2_dim300model\")\n",
    "print_similar_words(model_7, \"lemmatized_model_cbow_window4_dim300model\")\n",
    "print_similar_words(model_8, \"lemmatized_model_skipgram_window4_dim300model\")\n",
    "  "
   ]
  },
  {
   "cell_type": "code",
   "execution_count": 3,
   "id": "7d823d73-4881-4f60-b111-06e0c2bd8848",
   "metadata": {},
   "outputs": [],
   "source": [
    "from gensim.models import Word2Vec\n",
    "#Model dosyalarını yüklemek\n",
    "mww_1=Word2Vec.load(\"stemmed_model_cbow_window2_dim100model\")\n",
    "mww_2=Word2Vec.load(\"stemmed_model_skipgram_window2_dim100model\")\n",
    "mww_3=Word2Vec.load(\"stemmed_model_cbow_window4_dim100model\")\n",
    "mww_4=Word2Vec.load(\"stemmed_model_skipgram_window4_dim100model\")\n",
    "mww_5=Word2Vec.load(\"stemmed_model_cbow_window2_dim300model\")\n",
    "mww_6=Word2Vec.load(\"stemmed_model_skipgram_window2_dim300model\")\n",
    "mww_7=Word2Vec.load(\"stemmed_model_cbow_window4_dim300model\")\n",
    "mww_8=Word2Vec.load(\"stemmed_model_skipgram_window4_dim300model\")\n",
    "def print_similar_words(model, model_name):\n",
    "    similarity=model.wv.most_similar('held', topn=5)\n",
    "    print(f\"\\n{model_name} Modeli - 'held' ile benzer 5:\")\n",
    "    for word, score in similarity:\n",
    "        print(f\"Kelime: {word}, Benzerlik Skoru{score}\")"
   ]
  },
  {
   "cell_type": "code",
   "execution_count": 4,
   "id": "576e847d-d76d-4e97-be9d-905315cfee8c",
   "metadata": {},
   "outputs": [
    {
     "name": "stdout",
     "output_type": "stream",
     "text": [
      "\n",
      "stemmed_model_cbow_window2_dim100model Modeli - 'held' ile benzer 5:\n",
      "Kelime: conclud, Benzerlik Skoru0.7383064031600952\n",
      "Kelime: found, Benzerlik Skoru0.7272340059280396\n",
      "Kelime: recogn, Benzerlik Skoru0.7263609170913696\n",
      "Kelime: conced, Benzerlik Skoru0.6963115930557251\n",
      "Kelime: upheld, Benzerlik Skoru0.6863157749176025\n",
      "\n",
      "stemmed_model_skipgram_window2_dim100model Modeli - 'held' ile benzer 5:\n",
      "Kelime: recogn, Benzerlik Skoru0.713923990726471\n",
      "Kelime: upheld, Benzerlik Skoru0.7054750919342041\n",
      "Kelime: found, Benzerlik Skoru0.6955560445785522\n",
      "Kelime: hold, Benzerlik Skoru0.6949310898780823\n",
      "Kelime: conclud, Benzerlik Skoru0.6928191184997559\n",
      "\n",
      "stemmed_model_cbow_window4_dim100model Modeli - 'held' ile benzer 5:\n",
      "Kelime: conclud, Benzerlik Skoru0.7061012387275696\n",
      "Kelime: found, Benzerlik Skoru0.6956619024276733\n",
      "Kelime: hold, Benzerlik Skoru0.69004225730896\n",
      "Kelime: upheld, Benzerlik Skoru0.66949862241745\n",
      "Kelime: recogn, Benzerlik Skoru0.6645337343215942\n",
      "\n",
      "stemmed_model_skipgram_window4_dim100model Modeli - 'held' ile benzer 5:\n",
      "Kelime: hold, Benzerlik Skoru0.7183015942573547\n",
      "Kelime: found, Benzerlik Skoru0.7160736322402954\n",
      "Kelime: conclud, Benzerlik Skoru0.7142494320869446\n",
      "Kelime: recogn, Benzerlik Skoru0.7093175649642944\n",
      "Kelime: upheld, Benzerlik Skoru0.7058200240135193\n",
      "\n",
      "stemmed_model_cbow_window2_dim300model Modeli - 'held' ile benzer 5:\n",
      "Kelime: conclud, Benzerlik Skoru0.6388607621192932\n",
      "Kelime: hold, Benzerlik Skoru0.6191796660423279\n",
      "Kelime: found, Benzerlik Skoru0.5900501012802124\n",
      "Kelime: recogn, Benzerlik Skoru0.5842092633247375\n",
      "Kelime: upheld, Benzerlik Skoru0.5742579698562622\n",
      "\n",
      "stemmed_model_skipgram_window2_dim300model Modeli - 'held' ile benzer 5:\n",
      "Kelime: hold, Benzerlik Skoru0.6173794865608215\n",
      "Kelime: upheld, Benzerlik Skoru0.5686004757881165\n",
      "Kelime: conclud, Benzerlik Skoru0.5302079916000366\n",
      "Kelime: found, Benzerlik Skoru0.5206304788589478\n",
      "Kelime: adjudg, Benzerlik Skoru0.5110215544700623\n",
      "\n",
      "stemmed_model_cbow_window4_dim300model Modeli - 'held' ile benzer 5:\n",
      "Kelime: hold, Benzerlik Skoru0.6393167972564697\n",
      "Kelime: conclud, Benzerlik Skoru0.6127086281776428\n",
      "Kelime: found, Benzerlik Skoru0.5740448236465454\n",
      "Kelime: upheld, Benzerlik Skoru0.5664118528366089\n",
      "Kelime: recogn, Benzerlik Skoru0.5533708333969116\n",
      "\n",
      "stemmed_model_skipgram_window4_dim300model Modeli - 'held' ile benzer 5:\n",
      "Kelime: hold, Benzerlik Skoru0.6477921009063721\n",
      "Kelime: upheld, Benzerlik Skoru0.5717234015464783\n",
      "Kelime: conclud, Benzerlik Skoru0.5528687834739685\n",
      "Kelime: recogn, Benzerlik Skoru0.5327879786491394\n",
      "Kelime: found, Benzerlik Skoru0.4976755380630493\n"
     ]
    }
   ],
   "source": [
    "#8 model için yazır\n",
    "print_similar_words(mww_1, \"stemmed_model_cbow_window2_dim100model\")\n",
    "print_similar_words(mww_2, \"stemmed_model_skipgram_window2_dim100model\")\n",
    "print_similar_words(mww_3, \"stemmed_model_cbow_window4_dim100model\")\n",
    "print_similar_words(mww_4, \"stemmed_model_skipgram_window4_dim100model\")\n",
    "print_similar_words(mww_5, \"stemmed_model_cbow_window2_dim300model\")\n",
    "print_similar_words(mww_6, \"stemmed_model_skipgram_window2_dim300model\")\n",
    "print_similar_words(mww_7, \"stemmed_model_cbow_window4_dim300model\")\n",
    "print_similar_words(mww_8, \"stemmed_model_skipgram_window4_dim300model\")\n",
    "  "
   ]
  }
 ],
 "metadata": {
  "kernelspec": {
   "display_name": "Python 3 (ipykernel)",
   "language": "python",
   "name": "python3"
  },
  "language_info": {
   "codemirror_mode": {
    "name": "ipython",
    "version": 3
   },
   "file_extension": ".py",
   "mimetype": "text/x-python",
   "name": "python",
   "nbconvert_exporter": "python",
   "pygments_lexer": "ipython3",
   "version": "3.12.10"
  }
 },
 "nbformat": 4,
 "nbformat_minor": 5
}
